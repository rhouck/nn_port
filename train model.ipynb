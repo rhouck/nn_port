{
 "cells": [
  {
   "cell_type": "code",
   "execution_count": 1,
   "metadata": {
    "collapsed": false
   },
   "outputs": [],
   "source": [
    "%load_ext autoreload\n",
    "%autoreload 2\n",
    "\n",
    "import datetime\n",
    "import pandas as pd\n",
    "\n",
    "from opt_weights import *"
   ]
  },
  {
   "cell_type": "code",
   "execution_count": 3,
   "metadata": {
    "collapsed": true
   },
   "outputs": [],
   "source": [
    "start_date = datetime.date(2010,1,1)\n",
    "end_date = datetime.date(2012,5,1)"
   ]
  },
  {
   "cell_type": "code",
   "execution_count": 4,
   "metadata": {
    "collapsed": false
   },
   "outputs": [
    {
     "name": "stderr",
     "output_type": "stream",
     "text": [
      "/Users/ryanchouck/dev/tf/venv/lib/python2.7/site-packages/pandas/io/data.py:35: FutureWarning: \n",
      "The pandas.io.data module is moved to a separate package (pandas-datareader) and will be removed from pandas in a future version.\n",
      "After installing the pandas-datareader package (https://github.com/pydata/pandas-datareader), you can change the import ``from pandas.io import data, wb`` to ``from pandas_datareader import data, wb``.\n",
      "  FutureWarning)\n"
     ]
    }
   ],
   "source": [
    "import pandas.io.data as web\n",
    "px = web.DataReader([\"^GSPC\", \"^DJI\", \"^IXIC\", \"^FCHI\", \"^FTSE\", \"^N225\"] , 'yahoo', start_date, end_date).Close\n",
    "ret = px.div(px.shift()).dropna()"
   ]
  },
  {
   "cell_type": "code",
   "execution_count": 9,
   "metadata": {
    "collapsed": false
   },
   "outputs": [
    {
     "data": {
      "text/html": [
       "<div>\n",
       "<table border=\"1\" class=\"dataframe\">\n",
       "  <thead>\n",
       "    <tr style=\"text-align: right;\">\n",
       "      <th>look_ahead_per</th>\n",
       "      <th>1</th>\n",
       "      <th>6</th>\n",
       "      <th>11</th>\n",
       "      <th>16</th>\n",
       "      <th>21</th>\n",
       "      <th>26</th>\n",
       "    </tr>\n",
       "    <tr>\n",
       "      <th>alpha</th>\n",
       "      <th></th>\n",
       "      <th></th>\n",
       "      <th></th>\n",
       "      <th></th>\n",
       "      <th></th>\n",
       "      <th></th>\n",
       "    </tr>\n",
       "  </thead>\n",
       "  <tbody>\n",
       "    <tr>\n",
       "      <th>0.000045</th>\n",
       "      <td>1.074351</td>\n",
       "      <td>1.040442</td>\n",
       "      <td>1.102394</td>\n",
       "      <td>1.121914</td>\n",
       "      <td>1.098612</td>\n",
       "      <td>1.093912</td>\n",
       "    </tr>\n",
       "    <tr>\n",
       "      <th>0.000172</th>\n",
       "      <td>1.122300</td>\n",
       "      <td>1.066825</td>\n",
       "      <td>1.125839</td>\n",
       "      <td>1.128785</td>\n",
       "      <td>1.111956</td>\n",
       "      <td>1.101439</td>\n",
       "    </tr>\n",
       "    <tr>\n",
       "      <th>0.000653</th>\n",
       "      <td>1.126039</td>\n",
       "      <td>1.101111</td>\n",
       "      <td>1.129676</td>\n",
       "      <td>1.140003</td>\n",
       "      <td>1.125449</td>\n",
       "      <td>1.120464</td>\n",
       "    </tr>\n",
       "    <tr>\n",
       "      <th>0.002479</th>\n",
       "      <td>1.094476</td>\n",
       "      <td>1.094307</td>\n",
       "      <td>1.115230</td>\n",
       "      <td>1.114943</td>\n",
       "      <td>1.116591</td>\n",
       "      <td>1.115310</td>\n",
       "    </tr>\n",
       "    <tr>\n",
       "      <th>0.009404</th>\n",
       "      <td>1.050668</td>\n",
       "      <td>1.061086</td>\n",
       "      <td>1.080516</td>\n",
       "      <td>1.084019</td>\n",
       "      <td>1.085137</td>\n",
       "      <td>1.085146</td>\n",
       "    </tr>\n",
       "    <tr>\n",
       "      <th>0.035674</th>\n",
       "      <td>1.036760</td>\n",
       "      <td>1.042213</td>\n",
       "      <td>1.049367</td>\n",
       "      <td>1.051598</td>\n",
       "      <td>1.051837</td>\n",
       "      <td>1.052308</td>\n",
       "    </tr>\n",
       "    <tr>\n",
       "      <th>0.135335</th>\n",
       "      <td>1.032185</td>\n",
       "      <td>1.033966</td>\n",
       "      <td>1.036015</td>\n",
       "      <td>1.036746</td>\n",
       "      <td>1.036821</td>\n",
       "      <td>1.036982</td>\n",
       "    </tr>\n",
       "    <tr>\n",
       "      <th>0.513417</th>\n",
       "      <td>1.030868</td>\n",
       "      <td>1.031373</td>\n",
       "      <td>1.031929</td>\n",
       "      <td>1.032138</td>\n",
       "      <td>1.032164</td>\n",
       "      <td>1.032213</td>\n",
       "    </tr>\n",
       "    <tr>\n",
       "      <th>1.947734</th>\n",
       "      <td>1.030512</td>\n",
       "      <td>1.030648</td>\n",
       "      <td>1.030797</td>\n",
       "      <td>1.030853</td>\n",
       "      <td>1.030860</td>\n",
       "      <td>1.030874</td>\n",
       "    </tr>\n",
       "    <tr>\n",
       "      <th>7.389056</th>\n",
       "      <td>1.030418</td>\n",
       "      <td>1.030454</td>\n",
       "      <td>1.030493</td>\n",
       "      <td>1.030508</td>\n",
       "      <td>1.030510</td>\n",
       "      <td>1.030514</td>\n",
       "    </tr>\n",
       "  </tbody>\n",
       "</table>\n",
       "</div>"
      ],
      "text/plain": [
       "look_ahead_per        1         6         11        16        21        26\n",
       "alpha                                                                     \n",
       "0.000045        1.074351  1.040442  1.102394  1.121914  1.098612  1.093912\n",
       "0.000172        1.122300  1.066825  1.125839  1.128785  1.111956  1.101439\n",
       "0.000653        1.126039  1.101111  1.129676  1.140003  1.125449  1.120464\n",
       "0.002479        1.094476  1.094307  1.115230  1.114943  1.116591  1.115310\n",
       "0.009404        1.050668  1.061086  1.080516  1.084019  1.085137  1.085146\n",
       "0.035674        1.036760  1.042213  1.049367  1.051598  1.051837  1.052308\n",
       "0.135335        1.032185  1.033966  1.036015  1.036746  1.036821  1.036982\n",
       "0.513417        1.030868  1.031373  1.031929  1.032138  1.032164  1.032213\n",
       "1.947734        1.030512  1.030648  1.030797  1.030853  1.030860  1.030874\n",
       "7.389056        1.030418  1.030454  1.030493  1.030508  1.030510  1.030514"
      ]
     },
     "execution_count": 9,
     "metadata": {},
     "output_type": "execute_result"
    }
   ],
   "source": [
    "#grid = cum_prod_grid(ret)\n",
    "grid[grid.norm_type==2].pivot(index='alpha', columns='look_ahead_per', values='cum_ret')"
   ]
  },
  {
   "cell_type": "code",
   "execution_count": 12,
   "metadata": {
    "collapsed": false
   },
   "outputs": [],
   "source": [
    "opt_weights_func = lambda x: calc_opt_weights(x, alpha=0.000653, norm_type=2)\n",
    "weights = rolling_fit_opt_weights(ret, opt_weights_func, 20)"
   ]
  },
  {
   "cell_type": "code",
   "execution_count": 6,
   "metadata": {
    "collapsed": false
   },
   "outputs": [],
   "source": [
    "# make sure this doesn't peek ahead\n",
    "def build_returns_vector(df):\n",
    "    if df.isnull().values.any():\n",
    "        raise ValueError(\"dataframe cannot contain nans\")\n",
    "    df = df.shift()\n",
    "    pers = (1, 5, 10, 20, 30, 60)\n",
    "    pn = pd.Panel({i: df.div(df.shift(i)) for i in pers})\n",
    "    return pn.ix[:,61:,:]\n",
    "\n",
    "pn = build_returns_vector(px.fillna(method='ffill').dropna())"
   ]
  },
  {
   "cell_type": "code",
   "execution_count": 47,
   "metadata": {
    "collapsed": false
   },
   "outputs": [],
   "source": [
    "# make sure Xs and ys are same size\n",
    "def build_X_y(ret_vecs, weights):\n",
    "    dates = pn.major_axis\n",
    "    X y, = [], []\n",
    "    for ind, date in enumerate(dates):\n",
    "        try:\n",
    "            X_row = pn.ix[:,date,:].values.flatten()\n",
    "            y_row = weights.ix[date].values\n",
    "            X.append(X_row)\n",
    "            y.append(y_row)\n",
    "        except:\n",
    "            pass\n",
    "    X = np.array(X)\n",
    "    y = np.array(y)\n",
    "    return X, y\n",
    "\n",
    "Xs, ys = build_X_y(pn, weights)"
   ]
  },
  {
   "cell_type": "code",
   "execution_count": 63,
   "metadata": {
    "collapsed": false
   },
   "outputs": [],
   "source": [
    "def get_batch(Xs, ys, batch_size):\n",
    "    inds = np.random.choice(Xs.shape[0], batch_size, replace=True)\n",
    "    return Xs[inds,:], ys[inds,:]"
   ]
  },
  {
   "cell_type": "code",
   "execution_count": 46,
   "metadata": {
    "collapsed": false
   },
   "outputs": [],
   "source": [
    "import tensorflow as tf"
   ]
  },
  {
   "cell_type": "markdown",
   "metadata": {},
   "source": [
    "linear model w softmax"
   ]
  },
  {
   "cell_type": "code",
   "execution_count": 53,
   "metadata": {
    "collapsed": true
   },
   "outputs": [],
   "source": [
    "x = tf.placeholder(tf.float32, [None, Xs.shape[1]])\n",
    "y_ = tf.placeholder(tf.float32, [None, ys.shape[1]])\n",
    "W = tf.Variable(tf.zeros([Xs.shape[1], ys.shape[1]]))\n",
    "b = tf.Variable(tf.zeros([ys.shape[1]]))\n",
    "y = tf.nn.softmax(tf.matmul(x , W) + b)\n",
    "cross_entropy = -tf.reduce_sum(y_*tf.log(y))\n",
    "train_step = tf.train.GradientDescentOptimizer(0.01).minimize(cross_entropy)\n",
    "init = tf.initialize_all_variables()\n",
    "sess = tf.Session()\n",
    "sess.run(init)"
   ]
  },
  {
   "cell_type": "code",
   "execution_count": 73,
   "metadata": {
    "collapsed": false
   },
   "outputs": [],
   "source": [
    "for i in range(1000):\n",
    "    batch_Xs, batch_ys = get_batch(Xs, ys, 100)\n",
    "    sess.run(train_step, feed_dict={x: batch_Xs, y_: batch_ys})"
   ]
  },
  {
   "cell_type": "code",
   "execution_count": 74,
   "metadata": {
    "collapsed": true
   },
   "outputs": [],
   "source": [
    "correct_prediction = tf.equal(tf.argmax(y,1), tf.argmax(y_,1))\n",
    "accuracy = tf.reduce_mean(tf.cast(correct_prediction, tf.float32))"
   ]
  },
  {
   "cell_type": "code",
   "execution_count": 75,
   "metadata": {
    "collapsed": false
   },
   "outputs": [
    {
     "data": {
      "text/plain": [
       "0.38018433179723504"
      ]
     },
     "execution_count": 75,
     "metadata": {},
     "output_type": "execute_result"
    }
   ],
   "source": [
    "acc = sess.run(correct_prediction, feed_dict={x: Xs, y_: ys})\n",
    "(sum(acc) * 1.) / len(acc)"
   ]
  },
  {
   "cell_type": "markdown",
   "metadata": {},
   "source": [
    "two hidden layer softmax"
   ]
  },
  {
   "cell_type": "code",
   "execution_count": 81,
   "metadata": {
    "collapsed": false
   },
   "outputs": [],
   "source": [
    "import math\n",
    "\n",
    "X_width = Xs.shape[1]\n",
    "y_width = ys.shape[1]\n",
    "\n",
    "x = tf.placeholder(tf.float32, [None, Xs.shape[1]])\n",
    "y_ = tf.placeholder(tf.float32, [None, ys.shape[1]])\n",
    "\n",
    "hidden1_units = 25\n",
    "hidden2_units = 10\n",
    "\n",
    "# Hidden 1\n",
    "with tf.name_scope('hidden1'):\n",
    "    weights = tf.Variable(tf.truncated_normal([X_width, hidden1_units], \n",
    "                                              stddev=1.0 / math.sqrt(float(X_width))),\n",
    "                          name='weights')\n",
    "    biases = tf.Variable(tf.zeros([hidden1_units]),name='biases')\n",
    "    hidden1 = tf.nn.relu(tf.matmul(x, weights) + biases)\n",
    "# Hidden 2\n",
    "with tf.name_scope('hidden2'):\n",
    "    weights = tf.Variable(tf.truncated_normal([hidden1_units, hidden2_units], \n",
    "                                              stddev=1.0 / math.sqrt(float(hidden1_units))),\n",
    "                          name='weights')\n",
    "    biases = tf.Variable(tf.zeros([hidden2_units]),name='biases')\n",
    "    hidden2 = tf.nn.relu(tf.matmul(hidden1, weights) + biases)\n",
    "# Linear\n",
    "with tf.name_scope('softmax_linear'):\n",
    "    weights = tf.Variable(tf.truncated_normal([hidden2_units, y_width],\n",
    "                                               stddev=1.0 / math.sqrt(float(hidden2_units))),\n",
    "                          name='weights')\n",
    "    biases = tf.Variable(tf.zeros([y_width]),name='biases')\n",
    "    logits = tf.matmul(hidden2, weights) + biases\n",
    "    y = tf.nn.softmax(logits)"
   ]
  },
  {
   "cell_type": "code",
   "execution_count": 82,
   "metadata": {
    "collapsed": true
   },
   "outputs": [],
   "source": [
    "cross_entropy = -tf.reduce_sum(y_*tf.log(y))\n",
    "train_step = tf.train.GradientDescentOptimizer(0.01).minimize(cross_entropy)\n",
    "init = tf.initialize_all_variables()\n",
    "sess = tf.Session()\n",
    "sess.run(init)"
   ]
  },
  {
   "cell_type": "code",
   "execution_count": 86,
   "metadata": {
    "collapsed": true
   },
   "outputs": [],
   "source": [
    "for i in range(1000):\n",
    "    batch_Xs, batch_ys = get_batch(Xs, ys, 100)\n",
    "    sess.run(train_step, feed_dict={x: batch_Xs, y_: batch_ys})"
   ]
  },
  {
   "cell_type": "code",
   "execution_count": 87,
   "metadata": {
    "collapsed": true
   },
   "outputs": [],
   "source": [
    "correct_prediction = tf.equal(tf.argmax(y,1), tf.argmax(y_,1))\n",
    "accuracy = tf.reduce_mean(tf.cast(correct_prediction, tf.float32))"
   ]
  },
  {
   "cell_type": "code",
   "execution_count": 88,
   "metadata": {
    "collapsed": false
   },
   "outputs": [
    {
     "data": {
      "text/plain": [
       "0.37327188940092165"
      ]
     },
     "execution_count": 88,
     "metadata": {},
     "output_type": "execute_result"
    }
   ],
   "source": [
    "acc = sess.run(correct_prediction, feed_dict={x: Xs, y_: ys})\n",
    "(sum(acc) * 1.) / len(acc)"
   ]
  },
  {
   "cell_type": "code",
   "execution_count": null,
   "metadata": {
    "collapsed": true
   },
   "outputs": [],
   "source": []
  }
 ],
 "metadata": {
  "kernelspec": {
   "display_name": "Python 2",
   "language": "python",
   "name": "python2"
  },
  "language_info": {
   "codemirror_mode": {
    "name": "ipython",
    "version": 2
   },
   "file_extension": ".py",
   "mimetype": "text/x-python",
   "name": "python",
   "nbconvert_exporter": "python",
   "pygments_lexer": "ipython2",
   "version": "2.7.10"
  }
 },
 "nbformat": 4,
 "nbformat_minor": 0
}
