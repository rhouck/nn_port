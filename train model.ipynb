{
 "cells": [
  {
   "cell_type": "code",
   "execution_count": 1,
   "metadata": {
    "collapsed": false
   },
   "outputs": [],
   "source": [
    "%load_ext autoreload\n",
    "%autoreload 2\n",
    "\n",
    "import datetime\n",
    "import pandas as pd\n",
    "\n",
    "from opt_weights import *"
   ]
  },
  {
   "cell_type": "code",
   "execution_count": 2,
   "metadata": {
    "collapsed": true
   },
   "outputs": [],
   "source": [
    "start_date = datetime.date(2010,1,1)\n",
    "end_date = datetime.date(2011,5,1)"
   ]
  },
  {
   "cell_type": "code",
   "execution_count": 3,
   "metadata": {
    "collapsed": false
   },
   "outputs": [
    {
     "name": "stderr",
     "output_type": "stream",
     "text": [
      "/Users/ryanchouck/dev/tf/venv/lib/python2.7/site-packages/pandas/io/data.py:35: FutureWarning: \n",
      "The pandas.io.data module is moved to a separate package (pandas-datareader) and will be removed from pandas in a future version.\n",
      "After installing the pandas-datareader package (https://github.com/pydata/pandas-datareader), you can change the import ``from pandas.io import data, wb`` to ``from pandas_datareader import data, wb``.\n",
      "  FutureWarning)\n"
     ]
    }
   ],
   "source": [
    "import pandas.io.data as web\n",
    "px = web.DataReader([\"^GSPC\", \"^DJI\", \"^IXIC\", \"^FCHI\", \"^FTSE\", \"^N225\"] , 'yahoo', start_date, end_date).Close\n",
    "ret = px.div(px.shift()).dropna()"
   ]
  },
  {
   "cell_type": "code",
   "execution_count": 4,
   "metadata": {
    "collapsed": false
   },
   "outputs": [],
   "source": [
    "opt_weights = calc_opt_weights(ret)\n",
    "opt_weights_reg = calc_opt_weights(ret, .01, 2)"
   ]
  },
  {
   "cell_type": "code",
   "execution_count": 5,
   "metadata": {
    "collapsed": false
   },
   "outputs": [
    {
     "data": {
      "text/plain": [
       "^DJI     3.711689e-01\n",
       "^FCHI    2.907478e-08\n",
       "^FTSE    2.521794e-01\n",
       "^GSPC    1.615734e-01\n",
       "^IXIC    1.148382e-06\n",
       "^N225    2.150772e-01\n",
       "dtype: float64"
      ]
     },
     "execution_count": 5,
     "metadata": {},
     "output_type": "execute_result"
    }
   ],
   "source": [
    "opt_weights_reg"
   ]
  },
  {
   "cell_type": "code",
   "execution_count": 6,
   "metadata": {
    "collapsed": false
   },
   "outputs": [
    {
     "data": {
      "text/html": [
       "<div>\n",
       "<table border=\"1\" class=\"dataframe\">\n",
       "  <thead>\n",
       "    <tr style=\"text-align: right;\">\n",
       "      <th></th>\n",
       "      <th>avg</th>\n",
       "      <th>opt</th>\n",
       "      <th>opt_reg</th>\n",
       "    </tr>\n",
       "    <tr>\n",
       "      <th>Date</th>\n",
       "      <th></th>\n",
       "      <th></th>\n",
       "      <th></th>\n",
       "    </tr>\n",
       "  </thead>\n",
       "  <tbody>\n",
       "    <tr>\n",
       "      <th>2011-04-28</th>\n",
       "      <td>1.075782</td>\n",
       "      <td>1.074864</td>\n",
       "      <td>1.068205</td>\n",
       "    </tr>\n",
       "  </tbody>\n",
       "</table>\n",
       "</div>"
      ],
      "text/plain": [
       "                 avg       opt   opt_reg\n",
       "Date                                    \n",
       "2011-04-28  1.075782  1.074864  1.068205"
      ]
     },
     "execution_count": 6,
     "metadata": {},
     "output_type": "execute_result"
    }
   ],
   "source": [
    "pd.DataFrame({'opt': (ret * opt_weights).sum(axis=1),\n",
    "              'opt_reg': (ret * opt_weights_reg).sum(axis=1),\n",
    "              'avg': ret.mean(axis=1)}).cumprod().tail(1)"
   ]
  },
  {
   "cell_type": "code",
   "execution_count": 7,
   "metadata": {
    "collapsed": false
   },
   "outputs": [],
   "source": [
    "opt_weights = lambda x: calc_opt_weights(x, alpha=0, norm_type=2)\n",
    "weights = rolling_fit_opt_weights(ret, opt_weights, look_ahead_per=1)"
   ]
  },
  {
   "cell_type": "code",
   "execution_count": 8,
   "metadata": {
    "collapsed": false
   },
   "outputs": [
    {
     "data": {
      "text/plain": [
       "2011-04-19    1.001299\n",
       "2011-04-20    1.014831\n",
       "2011-04-21    1.014832\n",
       "2011-04-27    1.014835\n",
       "2011-04-28         NaN\n",
       "dtype: float64"
      ]
     },
     "execution_count": 8,
     "metadata": {},
     "output_type": "execute_result"
    }
   ],
   "source": [
    "(ret * weights).sum(axis=1).cumprod().tail()"
   ]
  },
  {
   "cell_type": "code",
   "execution_count": 9,
   "metadata": {
    "collapsed": false
   },
   "outputs": [
    {
     "data": {
      "text/plain": [
       "Date\n",
       "2011-04-19    1.037701\n",
       "2011-04-20    1.057262\n",
       "2011-04-21    1.062134\n",
       "2011-04-27    1.069385\n",
       "2011-04-28    1.075782\n",
       "dtype: float64"
      ]
     },
     "execution_count": 9,
     "metadata": {},
     "output_type": "execute_result"
    }
   ],
   "source": [
    "ret.mean(axis=1).cumprod().tail()"
   ]
  },
  {
   "cell_type": "code",
   "execution_count": 36,
   "metadata": {
    "collapsed": false
   },
   "outputs": [
    {
     "name": "stdout",
     "output_type": "stream",
     "text": [
      "2011-04-11 00:00:00\n"
     ]
    },
    {
     "data": {
      "text/html": [
       "<div>\n",
       "<table border=\"1\" class=\"dataframe\">\n",
       "  <thead>\n",
       "    <tr style=\"text-align: right;\">\n",
       "      <th></th>\n",
       "      <th>0.00673794699909</th>\n",
       "    </tr>\n",
       "  </thead>\n",
       "  <tbody>\n",
       "    <tr>\n",
       "      <th>1</th>\n",
       "      <td>1.07826</td>\n",
       "    </tr>\n",
       "  </tbody>\n",
       "</table>\n",
       "</div>"
      ],
      "text/plain": [
       "   0.006738\n",
       "1   1.07826"
      ]
     },
     "execution_count": 36,
     "metadata": {},
     "output_type": "execute_result"
    }
   ],
   "source": [
    "def cum_prod_grid(df, opt_weights_fun, max_look_ahead_per):\n",
    "    end_date = df.index[-(max_look_ahead_per + 1)]\n",
    "    alphas = {}\n",
    "    for alpha in np.exp(np.linspace(-5, 5, 1)):\n",
    "        pers = {}\n",
    "        for per in (1,):\n",
    "            weights = rolling_fit_opt_weights(ret, opt_weights, look_ahead_per=per)\n",
    "            pers[per] = (ret * weights).sum(axis=1).cumprod()[:end_date].tail(1).values[0]\n",
    "        alphas[alpha] = pd.Series(pers)\n",
    "    return pd.DataFrame(alphas)\n",
    "\n",
    "opt_weights_func = lambda x, y: calc_opt_weights(x, alpha=y, norm_type=2)\n",
    "cum_prod_grid(ret, opt_weights_func, 10)"
   ]
  },
  {
   "cell_type": "code",
   "execution_count": null,
   "metadata": {
    "collapsed": false
   },
   "outputs": [],
   "source": []
  },
  {
   "cell_type": "code",
   "execution_count": null,
   "metadata": {
    "collapsed": true
   },
   "outputs": [],
   "source": []
  }
 ],
 "metadata": {
  "kernelspec": {
   "display_name": "Python 2",
   "language": "python",
   "name": "python2"
  },
  "language_info": {
   "codemirror_mode": {
    "name": "ipython",
    "version": 2
   },
   "file_extension": ".py",
   "mimetype": "text/x-python",
   "name": "python",
   "nbconvert_exporter": "python",
   "pygments_lexer": "ipython2",
   "version": "2.7.10"
  }
 },
 "nbformat": 4,
 "nbformat_minor": 0
}
