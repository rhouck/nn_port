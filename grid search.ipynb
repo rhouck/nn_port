{
 "cells": [
  {
   "cell_type": "code",
   "execution_count": 14,
   "metadata": {
    "collapsed": false
   },
   "outputs": [
    {
     "name": "stdout",
     "output_type": "stream",
     "text": [
      "The autoreload extension is already loaded. To reload it, use:\n",
      "  %reload_ext autoreload\n"
     ]
    }
   ],
   "source": [
    "%load_ext autoreload\n",
    "%autoreload 2\n",
    "%matplotlib inline\n",
    "\n",
    "import math\n",
    "import datetime\n",
    "import glob\n",
    "import copy\n",
    "\n",
    "import pandas as pd\n",
    "import seaborn as sns\n",
    "import tensorflow as tf\n",
    "from matplotlib import pyplot as plt\n",
    "\n",
    "from ml.opt_weights import *\n",
    "from ml.model_inputs import *\n",
    "from ml.model import *\n",
    "import ml.utils as ut\n",
    "from custom_objectives import *\n",
    "#from constructions import *\n",
    "from tutils import *"
   ]
  },
  {
   "cell_type": "code",
   "execution_count": 15,
   "metadata": {
    "collapsed": true
   },
   "outputs": [],
   "source": [
    "from itertools import product\n",
    "from toolz.dicttoolz import keymap"
   ]
  },
  {
   "cell_type": "code",
   "execution_count": 56,
   "metadata": {
    "collapsed": false
   },
   "outputs": [],
   "source": [
    "params = (('look_ahead_per', (10, 22, 44)),\n",
    "          ('cash', (True, False)),\n",
    "          ('as_ts_score', (True, False)),\n",
    "          ('anti_signals', (False,)),\n",
    "          ('boosting', (True,)),\n",
    "          ('sigmoid_gain', (.5, .75, 1.)),\n",
    "          ('layer_size', (10, 25, 100)),\n",
    "          ('num_layers', (1, 2, 3,)),\n",
    "          ('num_iterations', (10000, 50000, 500000)),\n",
    "          ('batch_size', (250, 500, 1000)),\n",
    "          ('learning_rate', (.01, .1, 1.)),\n",
    "          ('penalty_alpha', (0., .01, .1, 1.)),\n",
    "          ('train_dropout_rate', (0., .1, .25)),\n",
    "          ('holdings_penalty_alpha', (.5, 1., 1.5)),\n",
    "          ('gearing_alpha', (.2,)),)\n",
    "\n",
    "iters = list(product(*[i[1] for i in params]))"
   ]
  },
  {
   "cell_type": "code",
   "execution_count": 57,
   "metadata": {
    "collapsed": false
   },
   "outputs": [
    {
     "data": {
      "text/plain": [
       "314928"
      ]
     },
     "execution_count": 57,
     "metadata": {},
     "output_type": "execute_result"
    }
   ],
   "source": [
    "len(iters)"
   ]
  },
  {
   "cell_type": "code",
   "execution_count": 54,
   "metadata": {
    "collapsed": false
   },
   "outputs": [
    {
     "name": "stdout",
     "output_type": "stream",
     "text": [
      "0 (10, True, True, False, True, 0.5, 10, 1, 10000, 250, 0.01, 0.0, 0.0, 0.5, 0.2)\n",
      "train loss:\t0.41994\ttest loss:\t0.46704\n"
     ]
    },
    {
     "name": "stderr",
     "output_type": "stream",
     "text": [
      "/usr/local/lib/python2.7/dist-packages/ipykernel/__main__.py:59: FutureWarning: pd.rolling_mean is deprecated for DataFrame and will be removed in a future version, replace with \n",
      "\tDataFrame.rolling(min_periods=1,window=10,center=False).mean()\n",
      "/usr/local/lib/python2.7/dist-packages/ipykernel/__main__.py:60: FutureWarning: pd.rolling_mean is deprecated for DataFrame and will be removed in a future version, replace with \n",
      "\tDataFrame.rolling(min_periods=1,window=22,center=False).mean()\n"
     ]
    }
   ],
   "source": [
    "fn = 'data/backtest_grid.csv'\n",
    "with open(fn, 'w') as csvfile:\n",
    "    for ind, i in enumerate(iters):\n",
    "        if ind > 0:\n",
    "            break\n",
    "        print ind, i\n",
    "        row = dict(zip([p[0] for p in params], i))\n",
    "        row['num_iterations'] = 100\n",
    "        try:\n",
    "            res = train_model(paths, row['look_ahead_per'], row['cash'], row['as_ts_score'], row['anti_signals'], \n",
    "                              row['boosting'], row['sigmoid_gain'], row['layer_size'], row['num_layers'], \n",
    "                              row['num_iterations'], row['batch_size'], row['learning_rate'], row['penalty_alpha'], \n",
    "                              row['train_dropout_rate'], row['holdings_penalty_alpha'], row['gearing_alpha'])\n",
    "            row.update(res)\n",
    "        except:\n",
    "            continue\n",
    "            \n",
    "        if not ind:\n",
    "            writer = csv.DictWriter(csvfile, fieldnames=row.keys())\n",
    "            writer.writeheader()\n",
    "        writer.writerow(row)"
   ]
  },
  {
   "cell_type": "code",
   "execution_count": 55,
   "metadata": {
    "collapsed": false
   },
   "outputs": [
    {
     "data": {
      "text/html": [
       "<div>\n",
       "<table border=\"1\" class=\"dataframe\">\n",
       "  <thead>\n",
       "    <tr style=\"text-align: right;\">\n",
       "      <th></th>\n",
       "      <th>train_irraw</th>\n",
       "      <th>learning_rate</th>\n",
       "      <th>boosting</th>\n",
       "      <th>as_ts_score</th>\n",
       "      <th>batch_size</th>\n",
       "      <th>train_dropout_rate</th>\n",
       "      <th>look_ahead_per</th>\n",
       "      <th>test_irraw</th>\n",
       "      <th>test_to_one_month</th>\n",
       "      <th>anti_signals</th>\n",
       "      <th>...</th>\n",
       "      <th>sigmoid_gain</th>\n",
       "      <th>train_to_two_weeks</th>\n",
       "      <th>test_to_two_weeks</th>\n",
       "      <th>train_ir2_weeks</th>\n",
       "      <th>test_to</th>\n",
       "      <th>train_ir1_month</th>\n",
       "      <th>layer_size</th>\n",
       "      <th>train_to_one_month</th>\n",
       "      <th>test_ir1_month</th>\n",
       "      <th>penalty_alpha</th>\n",
       "    </tr>\n",
       "  </thead>\n",
       "  <tbody>\n",
       "    <tr>\n",
       "      <th>0</th>\n",
       "      <td>2.364775</td>\n",
       "      <td>0.01</td>\n",
       "      <td>True</td>\n",
       "      <td>True</td>\n",
       "      <td>250</td>\n",
       "      <td>0.0</td>\n",
       "      <td>10</td>\n",
       "      <td>0.966529</td>\n",
       "      <td>0.309771</td>\n",
       "      <td>False</td>\n",
       "      <td>...</td>\n",
       "      <td>0.5</td>\n",
       "      <td>0.656881</td>\n",
       "      <td>0.666027</td>\n",
       "      <td>2.364775</td>\n",
       "      <td>6.606979</td>\n",
       "      <td>2.364775</td>\n",
       "      <td>10</td>\n",
       "      <td>0.299463</td>\n",
       "      <td>0.966529</td>\n",
       "      <td>0.0</td>\n",
       "    </tr>\n",
       "  </tbody>\n",
       "</table>\n",
       "<p>1 rows × 27 columns</p>\n",
       "</div>"
      ],
      "text/plain": [
       "   train_irraw  learning_rate boosting as_ts_score  batch_size  \\\n",
       "0     2.364775           0.01     True        True         250   \n",
       "\n",
       "   train_dropout_rate  look_ahead_per  test_irraw  test_to_one_month  \\\n",
       "0                 0.0              10    0.966529           0.309771   \n",
       "\n",
       "  anti_signals      ...        sigmoid_gain  train_to_two_weeks  \\\n",
       "0        False      ...                 0.5            0.656881   \n",
       "\n",
       "   test_to_two_weeks  train_ir2_weeks   test_to  train_ir1_month layer_size  \\\n",
       "0           0.666027         2.364775  6.606979         2.364775         10   \n",
       "\n",
       "   train_to_one_month  test_ir1_month  penalty_alpha  \n",
       "0            0.299463        0.966529            0.0  \n",
       "\n",
       "[1 rows x 27 columns]"
      ]
     },
     "execution_count": 55,
     "metadata": {},
     "output_type": "execute_result"
    }
   ],
   "source": [
    "pd.read_csv(fn)"
   ]
  },
  {
   "cell_type": "code",
   "execution_count": 10,
   "metadata": {
    "collapsed": true
   },
   "outputs": [],
   "source": [
    "paths = [i for i in glob.iglob('data/bagging/portfolio_returns_*.csv')]\n",
    "paths.append('data/returns.csv')"
   ]
  },
  {
   "cell_type": "code",
   "execution_count": 43,
   "metadata": {
    "collapsed": false
   },
   "outputs": [
    {
     "name": "stdout",
     "output_type": "stream",
     "text": [
      "train loss:\t1.49686\ttest loss:\t1.49917\n"
     ]
    },
    {
     "name": "stderr",
     "output_type": "stream",
     "text": [
      "/usr/local/lib/python2.7/dist-packages/ipykernel/__main__.py:59: FutureWarning: pd.rolling_mean is deprecated for DataFrame and will be removed in a future version, replace with \n",
      "\tDataFrame.rolling(min_periods=1,window=10,center=False).mean()\n",
      "/usr/local/lib/python2.7/dist-packages/ipykernel/__main__.py:60: FutureWarning: pd.rolling_mean is deprecated for DataFrame and will be removed in a future version, replace with \n",
      "\tDataFrame.rolling(min_periods=1,window=22,center=False).mean()\n"
     ]
    }
   ],
   "source": [
    "def train_model(paths, look_ahead_per, cash, as_ts_score, anti_signals, boosting,\n",
    "               sigmoid_gain, layer_size, num_layers, num_iterations, batch_size, learning_rate,\n",
    "               penalty_alpha, train_dropout_rate, holdings_penalty_alpha, gearing_alpha):\n",
    "    \n",
    "    sel_paths = paths[-1:] if not boosting else paths\n",
    "    ret = [load_returns(i, anti_signals) for i in sel_paths]\n",
    "    \n",
    "    if cash: \n",
    "        ret = [add_cash(r) for r in ret]\n",
    "\n",
    "\n",
    "    # set Xs to forward looking returns\n",
    "    fwd_ret = []\n",
    "    for r in ret:\n",
    "        fr = (get_fwd_ret(r, look_ahead_per).dropna(how='all')\n",
    "        if cash:\n",
    "            fr = fr.drop('cash', axis=1)\n",
    "        fwd_ret.append(fr)\n",
    "        \n",
    "    Xs = copy.deepcopy(fwd_ret)\n",
    "    \n",
    "    # add noise\n",
    "    Xs = [df_to_corr_panel(i) for i in Xs]\n",
    "\n",
    "    # ts score (scaled to look similar to returns)\n",
    "    if as_ts_score:\n",
    "        ts_scaler = fwd_ret[-1].stack().std()\n",
    "        Xs = [panel_ts_score(i, ts_scaler) for i in Xs]\n",
    "        \n",
    "    # concat data sets\n",
    "    ret, fwd_ret, Xs = map(lambda x: pd.concat(x), [ret, fwd_ret, Xs])\n",
    "    \n",
    "    ys = pd.DataFrame(np.ones([Xs.shape[0], Xs.shape[1]]), index=Xs.items, columns=Xs.major_axis)\n",
    "    \n",
    "    inputs = [Xs, ys, fwd_ret]\n",
    "    inputs = validate_and_format_inputs(inputs)\n",
    "    inputs = split_inputs_by_date(inputs, datetime.date(2013,1,1), look_ahead_per)\n",
    "    \n",
    "    structure = [[1,],[layer_size for i in range(num_layers)]]\n",
    "    data = pd.DataFrame(inputs).applymap(lambda x: x.values).values\n",
    "    cost_func = lambda l, y, y_, r_, act: sigmoid_ir(l, y, y_, r_, act, look_ahead_per, sigmoid_gain, holdings_penalty_alpha, gearing_alpha)\n",
    "    preds, stats = train_nn(data, \n",
    "                            structure, num_iterations, batch_size, learning_rate, penalty_alpha=penalty_alpha, \n",
    "                            train_dropout_rate=train_dropout_rate, verbosity=10000,\n",
    "                            fc_final_layer_activation=None,\n",
    "                            fc_hidden_layer_activation=tf.nn.relu,\n",
    "                            conv_layer_activation=None,\n",
    "                            loss_func=cost_func,)\n",
    "    \n",
    "    fret = select_final_data_set(ret)\n",
    "    \n",
    "    row = {}\n",
    "    for i in ('train', 'test'):\n",
    "\n",
    "        ind = 0 if i=='train' else 1\n",
    "        probs = pd.DataFrame(preds[i]['weights'], columns=inputs[1][ind].columns, index=inputs[1][ind].index)\n",
    "        probs = select_final_data_set(probs)\n",
    "        probs_10 = pd.rolling_mean(probs,window=10, min_periods=1)\n",
    "        probs_22 = pd.rolling_mean(probs,window=22, min_periods=1)\n",
    "        \n",
    "        perf = pd.DataFrame({'raw': fret.mul(probs).sum(axis=1),\n",
    "                             '2_weeks': fret.mul(probs).sum(axis=1),\n",
    "                             '1_month': fret.mul(probs).sum(axis=1)})\n",
    "\n",
    "        irs = ut.get_ir(perf)\n",
    "        irs = keymap(lambda x: '{0}_ir'.format(i) + x, irs.to_dict())\n",
    "        row.update(irs)\n",
    "        row[i + '_to'] = ut.calc_annual_turnover(probs)\n",
    "        row[i + '_to_two_weeks'] = ut.calc_annual_turnover(probs_10)\n",
    "        row[i + '_to_one_month'] = ut.calc_annual_turnover(probs_22)\n",
    "        \n",
    "    return row"
   ]
  },
  {
   "cell_type": "code",
   "execution_count": 58,
   "metadata": {
    "collapsed": false
   },
   "outputs": [
    {
     "name": "stdout",
     "output_type": "stream",
     "text": [
      "train loss:\t1.24010\ttest loss:\t1.21910\n"
     ]
    },
    {
     "name": "stderr",
     "output_type": "stream",
     "text": [
      "/usr/local/lib/python2.7/dist-packages/ipykernel/__main__.py:59: FutureWarning: pd.rolling_mean is deprecated for DataFrame and will be removed in a future version, replace with \n",
      "\tDataFrame.rolling(min_periods=1,window=10,center=False).mean()\n",
      "/usr/local/lib/python2.7/dist-packages/ipykernel/__main__.py:60: FutureWarning: pd.rolling_mean is deprecated for DataFrame and will be removed in a future version, replace with \n",
      "\tDataFrame.rolling(min_periods=1,window=22,center=False).mean()\n"
     ]
    }
   ],
   "source": [
    "look_ahead_per = 10\n",
    "cash = False\n",
    "as_ts_score = False\n",
    "anti_signals = True\n",
    "boosting = True\n",
    "sigmoid_gain = .5\n",
    "layer_size = 10\n",
    "num_layers = 2\n",
    "num_iterations = 100\n",
    "batch_size = 100\n",
    "learning_rate = .01\n",
    "penalty_alpha = .05\n",
    "train_dropout_rate = .1\n",
    "holdings_penalty_alpha = 1.\n",
    "gearing_alpha = .2\n",
    "\n",
    "row = train_model(paths, look_ahead_per, cash, as_ts_score, anti_signals, boosting,\n",
    "                  sigmoid_gain, layer_size, num_layers, num_iterations, batch_size, learning_rate,\n",
    "                  penalty_alpha, train_dropout_rate, holdings_penalty_alpha, gearing_alpha)"
   ]
  },
  {
   "cell_type": "code",
   "execution_count": null,
   "metadata": {
    "collapsed": true
   },
   "outputs": [],
   "source": []
  }
 ],
 "metadata": {
  "kernelspec": {
   "display_name": "Python 2",
   "language": "python",
   "name": "python2"
  },
  "language_info": {
   "codemirror_mode": {
    "name": "ipython",
    "version": 2
   },
   "file_extension": ".py",
   "mimetype": "text/x-python",
   "name": "python",
   "nbconvert_exporter": "python",
   "pygments_lexer": "ipython2",
   "version": "2.7.6"
  }
 },
 "nbformat": 4,
 "nbformat_minor": 0
}
